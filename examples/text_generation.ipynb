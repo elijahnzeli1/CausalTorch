{
 "cells": [
  {
   "cell_type": "markdown",
   "metadata": {},
   "source": [
    "# CausalTorch: Text Generation with Causal Constraints\n",
    "\n",
    "This notebook demonstrates how to use CausalTorch to generate text that adheres to causal rules. We'll implement a simple example where given the input \"If it rains,\" the model must generate text that includes the effect \"the ground gets wet.\""
   ]
  },
  {
   "cell_type": "markdown",
   "metadata": {},
   "source": [
    "## 1. Setup and Installation"
   ]
  },
  {
   "cell_type": "code",
   "execution_count": null,
   "metadata": {},
   "outputs": [
    {
     "ename": "",
     "evalue": "",
     "output_type": "error",
     "traceback": [
      "\u001b[1;31mRunning cells with 'venv (Python 3.12.10)' requires the ipykernel package.\n",
      "\u001b[1;31mRun the following command to install 'ipykernel' into the Python environment. \n",
      "\u001b[1;31mCommand: '\"c:/Users/ELITEBOOK 840 G3/CausalTorch/venv/Scripts/python.exe\" -m pip install ipykernel -U --force-reinstall'"
     ]
    }
   ],
   "source": [
    "# Install CausalTorch if not already installed\n",
    "%pip install -e ..\n",
    "\n",
    "# Import necessary libraries\n",
    "import torch\n",
    "import torch.nn as nn\n",
    "import numpy as np\n",
    "import matplotlib.pyplot as plt\n",
    "from transformers import GPT2Tokenizer, GPT2LMHeadModel\n",
    "from datasets import load_dataset\n",
    "from torch.utils.data import DataLoader\n",
    "\n",
    "# Import CausalTorch\n",
    "from causaltorch.layers import CausalAttentionLayer\n",
    "from causaltorch.models import CNSG_GPT2"
   ]
  },
  {
   "cell_type": "markdown",
   "metadata": {},
   "source": [
    "## 2. Define Causal Rules\n",
    "\n",
    "We'll start by defining causal rules that will guide our text generation. These rules specify cause-effect relationships that the model must adhere to."
   ]
  },
  {
   "cell_type": "code",
   "execution_count": null,
   "metadata": {},
   "outputs": [],
   "source": [
    "# Define causal rules - each rule maps a cause to an effect with a strength parameter\n",
    "causal_rules = {\n",
    "    \"rain\": {\"effect\": \"ground_wet\", \"strength\": 0.9},\n",
    "    \"fire\": {\"effect\": \"smoke\", \"strength\": 0.8},\n",
    "    \"cold\": {\"effect\": \"ice\", \"strength\": 0.7}\n",
    "}\n",
    "\n",
    "print(\"Causal Rules:\")\n",
    "for cause, effect_info in causal_rules.items():\n",
    "    print(f\"  {cause} → {effect_info['effect']} (strength: {effect_info['strength']})\")"
   ]
  },
  {
   "cell_type": "markdown",
   "metadata": {},
   "source": [
    "## 3. Implement the Causal Attention Layer\n",
    "\n",
    "This is the core of our approach. The `CausalAttentionLayer` modifies attention scores to enforce causal relationships."
   ]
  },
  {
   "cell_type": "code",
   "execution_count": null,
   "metadata": {},
   "outputs": [],
   "source": [
    "# This is a simplified version of the actual CausalAttentionLayer from CausalTorch\n",
    "class CausalAttention(nn.Module):\n",
    "    def __init__(self, causal_rules):\n",
    "        super().__init__()\n",
    "        self.causal_rules = causal_rules\n",
    "        self.tokenizer = GPT2Tokenizer.from_pretrained(\"gpt2\")\n",
    "    \n",
    "    def apply_causal_mask(self, attention_scores, input_text):\n",
    "        # Create a mask with the same shape as attention scores\n",
    "        batch_size, num_heads, seq_len, vocab_size = attention_scores.shape\n",
    "        causal_mask = torch.zeros_like(attention_scores)\n",
    "        \n",
    "        # Check for each causal rule\n",
    "        for cause, effect_info in self.causal_rules.items():\n",
    "            if cause in input_text.lower():\n",
    "                # If cause is present, boost attention to effect tokens\n",
    "                effect = effect_info[\"effect\"]\n",
    "                strength = effect_info[\"strength\"]\n",
    "                \n",
    "                # Get token IDs for the effect words\n",
    "                effect_tokens = self.tokenizer.encode(effect, add_special_tokens=False)\n",
    "                for token_id in effect_tokens:\n",
    "                    causal_mask[:, :, :, token_id] = strength * 10.0\n",
    "        \n",
    "        # Add the causal mask to attention scores\n",
    "        return attention_scores + causal_mask"
   ]
  },
  {
   "cell_type": "markdown",
   "metadata": {},
   "source": [
    "## 4. Create the CNSG-GPT2 Model\n",
    "\n",
    "Now we'll create a model that integrates our causal attention layer with GPT-2."
   ]
  },
  {
   "cell_type": "code",
   "execution_count": null,
   "metadata": {},
   "outputs": [],
   "source": [
    "class CNSG_GPT2_Model(nn.Module):\n",
    "    def __init__(self, causal_rules):\n",
    "        super().__init__()\n",
    "        self.gpt2 = GPT2LMHeadModel.from_pretrained(\"gpt2\")\n",
    "        self.causal_attn = CausalAttention(causal_rules)\n",
    "        self.tokenizer = GPT2Tokenizer.from_pretrained(\"gpt2\")\n",
    "    \n",
    "    def forward(self, input_ids, attention_mask=None):\n",
    "        # Get outputs from GPT-2\n",
    "        outputs = self.gpt2(input_ids=input_ids, attention_mask=attention_mask, output_attentions=True)\n",
    "        \n",
    "        # Get text from input_ids\n",
    "        input_text = self.tokenizer.decode(input_ids[0])\n",
    "        \n",
    "        # Apply causal attention modification to the last layer's attention\n",
    "        if outputs.attentions is not None:\n",
    "            modified_attention = self.causal_attn.apply_causal_mask(outputs.attentions[-1], input_text)\n",
    "            # In a full implementation, we would use this modified attention\n",
    "            # to recompute the final layer outputs\n",
    "        \n",
    "        return outputs\n",
    "    \n",
    "    def generate(self, input_ids, max_length=50, **kwargs):\n",
    "        # For simplicity, we'll use GPT-2's generation and apply post-processing\n",
    "        # In a full implementation, we would modify the generation algorithm\n",
    "        # to incorporate causal constraints at each step\n",
    "        \n",
    "        outputs = self.gpt2.generate(input_ids=input_ids, max_length=max_length, **kwargs)\n",
    "        \n",
    "        # Check if the output satisfies causal constraints\n",
    "        generated_text = self.tokenizer.decode(outputs[0])\n",
    "        input_text = self.tokenizer.decode(input_ids[0])\n",
    "        \n",
    "        satisfied = True\n",
    "        for cause, effect_info in self.causal_rules.items():\n",
    "            if cause in input_text.lower() and effect_info[\"effect\"] not in generated_text.lower():\n",
    "                satisfied = False\n",
    "                print(f\"Warning: Causal rule '{cause} → {effect_info['effect']}' not satisfied\")\n",
    "        \n",
    "        if satisfied:\n",
    "            print(\"✅ All causal rules satisfied\")\n",
    "        \n",
    "        return outputs\n",
    "\n",
    "# Create the model\n",
    "model = CNSG_GPT2_Model(causal_rules)"
   ]
  },
  {
   "cell_type": "markdown",
   "metadata": {},
   "source": [
    "## 5. Generate Text with Causal Constraints\n",
    "\n",
    "Let's test our model with some examples to see if it respects the causal rules."
   ]
  },
  {
   "cell_type": "code",
   "execution_count": null,
   "metadata": {},
   "outputs": [],
   "source": [
    "# Define some test inputs\n",
    "test_inputs = [\n",
    "    \"If it rains,\",\n",
    "    \"When there's a fire,\",\n",
    "    \"In cold weather,\"\n",
    "]\n",
    "\n",
    "# Generate text for each input\n",
    "for input_text in test_inputs:\n",
    "    print(f\"\\nInput: '{input_text}'\")\n",
    "    input_ids = model.tokenizer.encode(input_text, return_tensors=\"pt\")\n",
    "    output_ids = model.generate(input_ids, max_length=30, do_sample=True, temperature=0.7)\n",
    "    generated_text = model.tokenizer.decode(output_ids[0], skip_special_tokens=True)\n",
    "    print(f\"Generated: '{generated_text}'\")\n",
    "    \n",
    "    # Check if causal rules are satisfied\n",
    "    for cause, effect_info in causal_rules.items():\n",
    "        if cause in input_text.lower():\n",
    "            if effect_info[\"effect\"] in generated_text.lower():\n",
    "                print(f\"  ✅ Rule satisfied: {cause} → {effect_info['effect']}\")\n",
    "            else:\n",
    "                print(f\"  ❌ Rule not satisfied: {cause} → {effect_info['effect']}\")"
   ]
  },
  {
   "cell_type": "markdown",
   "metadata": {},
   "source": [
    "## 6. Few-Shot Training for Improved Causal Constraint Satisfaction"
   ]
  },
  {
   "cell_type": "code",
   "execution_count": null,
   "metadata": {},
   "outputs": [],
   "source": [
    "# Create a small training dataset of 20 examples\n",
    "few_shot_examples = [\n",
    "    \"If it rains, the ground gets wet and slippery.\",\n",
    "    \"When it rains, you can see the ground wet with puddles forming.\",\n",
    "    \"After the rain, the ground was wet for hours.\",\n",
    "    \"The fire produced thick smoke that filled the air.\",\n",
    "    \"Where there's fire, there's smoke rising into the sky.\",\n",
    "    \"Cold temperatures caused ice to form on the lake surface.\",\n",
    "    \"In cold weather, ice forms on the windows overnight.\"\n",
    "]\n",
    "\n",
    "# In a real implementation, we would fine-tune the model here\n",
    "# For demonstration purposes, we'll just print the examples\n",
    "print(\"Few-shot training examples:\")\n",
    "for example in few_shot_examples:\n",
    "    print(f\"  - {example}\")\n",
    "\n",
    "print(\"\\nIn a real implementation, we would use these examples to fine-tune the model\")\n",
    "print(\"with a loss function that includes causal consistency penalties.\")"
   ]
  },
  {
   "cell_type": "markdown",
   "metadata": {},
   "source": [
    "## 7. Evaluate Causal Fidelity Score (CFS)\n",
    "\n",
    "The CFS measures how well the model adheres to causal rules in its generations."
   ]
  },
  {
   "cell_type": "code",
   "execution_count": null,
   "metadata": {},
   "outputs": [],
   "source": [
    "def calculate_cfs(model, test_cases):\n",
    "    \"\"\"Calculate the Causal Fidelity Score\"\"\"\n",
    "    correct = 0\n",
    "    total_rules = 0\n",
    "    \n",
    "    for input_text, _ in test_cases:\n",
    "        input_ids = model.tokenizer.encode(input_text, return_tensors=\"pt\")\n",
    "        output_ids = model.generate(input_ids, max_length=30)\n",
    "        generated_text = model.tokenizer.decode(output_ids[0], skip_special_tokens=True)\n",
    "        \n",
    "        # Check each applicable rule\n",
    "        for cause, effect_info in causal_rules.items():\n",
    "            if cause in input_text.lower():\n",
    "                total_rules += 1\n",
    "                if effect_info[\"effect\"] in generated_text.lower():\n",
    "                    correct += 1\n",
    "    \n",
    "    return correct / total_rules if total_rules > 0 else 1.0\n",
    "\n",
    "# Test cases: (input, expected_output)\n",
    "test_cases = [\n",
    "    (\"If it rains,\", \"ground wet\"),\n",
    "    (\"When there's a fire,\", \"smoke\"),\n",
    "    (\"In cold weather,\", \"ice\"),\n",
    "    (\"The rain poured down,\", \"ground wet\"),\n",
    "    (\"The fire started in the kitchen,\", \"smoke\")\n",
    "]\n",
    "\n",
    "# Calculate CFS\n",
    "cfs = calculate_cfs(model, test_cases)\n",
    "print(f\"Causal Fidelity Score (CFS): {cfs:.2f} (higher is better)\")\n",
    "\n",
    "# Visualize the CFS\n",
    "plt.figure(figsize=(6, 3))\n",
    "plt.bar(['CFS'], [cfs], color='blue')\n",
    "plt.ylim(0, 1)\n",
    "plt.ylabel('Score')\n",
    "plt.title('Causal Fidelity Score')\n",
    "plt.axhline(y=0.5, color='r', linestyle='--', label='Minimum Acceptable')\n",
    "plt.legend()\n",
    "plt.tight_layout()\n",
    "plt.show()"
   ]
  },
  {
   "cell_type": "markdown",
   "metadata": {},
   "source": [
    "## 8. Conclusion\n",
    "\n",
    "In this notebook, we demonstrated how CausalTorch can be used to generate text that adheres to causal constraints. Key takeaways:\n",
    "\n",
    "1. We defined causal rules as cause-effect pairs with strength parameters\n",
    "2. We implemented a causal attention layer that modifies attention scores to encourage adherence to rules\n",
    "3. We integrated this with GPT-2 to create a CNSG text generation model\n",
    "4. We evaluated the model using a Causal Fidelity Score (CFS)\n",
    "\n",
    "This approach enables logical consistency in text generation with minimal training data - a key advantage of CausalTorch's neuro-symbolic approach."
   ]
  }
 ],
 "metadata": {
  "kernelspec": {
   "display_name": "venv",
   "language": "python",
   "name": "python3"
  },
  "language_info": {
   "codemirror_mode": {
    "name": "ipython",
    "version": 3
   },
   "file_extension": ".py",
   "mimetype": "text/x-python",
   "name": "python",
   "nbconvert_exporter": "python",
   "pygments_lexer": "ipython3",
   "version": "3.12.10"
  }
 },
 "nbformat": 4,
 "nbformat_minor": 4
}
